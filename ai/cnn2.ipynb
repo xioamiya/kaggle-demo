{
 "cells": [
  {
   "cell_type": "code",
   "execution_count": 1,
   "metadata": {},
   "outputs": [],
   "source": [
    "import numpy as np\n",
    "\n",
    "from tensorflow.python.keras.utils import np_utils\n",
    "from keras.models import Sequential\n",
    "from keras.layers import Dense, Dropout, Flatten\n",
    "from keras.callbacks import EarlyStopping, ModelCheckpoint\n",
    "from keras.layers import Conv2D, MaxPool2D\n",
    "from keras.optimizers import Adam"
   ]
  },
  {
   "cell_type": "code",
   "execution_count": 2,
   "metadata": {},
   "outputs": [],
   "source": [
    "from keras.datasets import mnist\n",
    "(X_train, y_train), (X_test, y_test) = mnist.load_data()"
   ]
  },
  {
   "cell_type": "code",
   "execution_count": 3,
   "metadata": {},
   "outputs": [],
   "source": [
    "img_rows, img_cols = X_train[0].shape[0], X_train[0].shape[1]\n",
    "X_train = X_train.reshape(X_train.shape[0], img_rows, img_cols, 1)\n",
    "X_test = X_test.reshape(X_test.shape[0], img_rows, img_cols, 1)\n",
    "input_shape = (img_rows, img_cols, 1)"
   ]
  },
  {
   "cell_type": "code",
   "execution_count": 4,
   "metadata": {},
   "outputs": [],
   "source": [
    "X_train = X_train.astype('float32') / 255.\n",
    "X_test = X_test.astype('float32') / 255."
   ]
  },
  {
   "cell_type": "code",
   "execution_count": 6,
   "metadata": {},
   "outputs": [],
   "source": [
    "from tensorflow.python.keras.utils.np_utils import to_categorical\n",
    "n_classes = len(set(y_train))\n",
    "y_train = to_categorical(y_train, n_classes)\n",
    "y_test = to_categorical(y_test, n_classes)"
   ]
  },
  {
   "cell_type": "code",
   "execution_count": 7,
   "metadata": {},
   "outputs": [
    {
     "name": "stdout",
     "output_type": "stream",
     "text": [
      "Model: \"sequential\"\n",
      "_________________________________________________________________\n",
      " Layer (type)                Output Shape              Param #   \n",
      "=================================================================\n",
      " conv2d (Conv2D)             (None, 26, 26, 64)        640       \n",
      "                                                                 \n",
      " max_pooling2d (MaxPooling2  (None, 13, 13, 64)        0         \n",
      " D)                                                              \n",
      "                                                                 \n",
      " conv2d_1 (Conv2D)           (None, 11, 11, 128)       73856     \n",
      "                                                                 \n",
      " max_pooling2d_1 (MaxPoolin  (None, 5, 5, 128)         0         \n",
      " g2D)                                                            \n",
      "                                                                 \n",
      " conv2d_2 (Conv2D)           (None, 3, 3, 256)         295168    \n",
      "                                                                 \n",
      " max_pooling2d_2 (MaxPoolin  (None, 1, 1, 256)         0         \n",
      " g2D)                                                            \n",
      "                                                                 \n",
      " dropout (Dropout)           (None, 1, 1, 256)         0         \n",
      "                                                                 \n",
      " flatten (Flatten)           (None, 256)               0         \n",
      "                                                                 \n",
      " dense (Dense)               (None, 128)               32896     \n",
      "                                                                 \n",
      " dropout_1 (Dropout)         (None, 128)               0         \n",
      "                                                                 \n",
      " dense_1 (Dense)             (None, 10)                1290      \n",
      "                                                                 \n",
      "=================================================================\n",
      "Total params: 403850 (1.54 MB)\n",
      "Trainable params: 403850 (1.54 MB)\n",
      "Non-trainable params: 0 (0.00 Byte)\n",
      "_________________________________________________________________\n"
     ]
    }
   ],
   "source": [
    "#定义网络结构\n",
    "model = Sequential()\n",
    "\n",
    "model.add(Conv2D(64, kernel_size=(3, 3), activation='relu', input_shape=input_shape))\n",
    "model.add(MaxPool2D(pool_size=(2,2)))\n",
    "\n",
    "model.add(Conv2D(128, kernel_size=(3, 3), activation='relu', input_shape=input_shape))\n",
    "model.add(MaxPool2D(pool_size=(2,2)))\n",
    "\n",
    "model.add(Conv2D(256, kernel_size=(3, 3), activation='relu', input_shape=input_shape))\n",
    "model.add(MaxPool2D(pool_size=(2,2)))\n",
    "\n",
    "model.add(Dropout(0.5))\n",
    "model.add(Flatten())\n",
    "model.add(Dense(128, activation='relu'))\n",
    "model.add(Dropout(0.5))\n",
    "model.add(Dense(n_classes, activation='softmax'))\n",
    "\n",
    "model.summary()"
   ]
  },
  {
   "cell_type": "code",
   "execution_count": 8,
   "metadata": {},
   "outputs": [],
   "source": [
    "model.compile(loss='categorical_crossentropy', optimizer='Adam', metrics=['accuracy'])\n",
    "batch_size = 128\n",
    "n_epochs = 50\n",
    "\n",
    "# Fix the callback monitor to 'val_acc'\n",
    "callbacks = [EarlyStopping(monitor='val_acc', patience=5)]"
   ]
  },
  {
   "cell_type": "code",
   "execution_count": 9,
   "metadata": {},
   "outputs": [
    {
     "name": "stdout",
     "output_type": "stream",
     "text": [
      "Epoch 1/50\n",
      "375/375 [==============================] - ETA: 0s - loss: 0.5028 - accuracy: 0.8405WARNING:tensorflow:Early stopping conditioned on metric `val_acc` which is not available. Available metrics are: loss,accuracy,val_loss,val_accuracy\n",
      "375/375 [==============================] - 36s 93ms/step - loss: 0.5028 - accuracy: 0.8405 - val_loss: 0.0930 - val_accuracy: 0.9712\n",
      "Epoch 2/50\n",
      "375/375 [==============================] - ETA: 0s - loss: 0.1515 - accuracy: 0.9566WARNING:tensorflow:Early stopping conditioned on metric `val_acc` which is not available. Available metrics are: loss,accuracy,val_loss,val_accuracy\n",
      "375/375 [==============================] - 32s 85ms/step - loss: 0.1515 - accuracy: 0.9566 - val_loss: 0.0640 - val_accuracy: 0.9814\n",
      "Epoch 3/50\n",
      "375/375 [==============================] - ETA: 0s - loss: 0.1090 - accuracy: 0.9706WARNING:tensorflow:Early stopping conditioned on metric `val_acc` which is not available. Available metrics are: loss,accuracy,val_loss,val_accuracy\n",
      "375/375 [==============================] - 32s 84ms/step - loss: 0.1090 - accuracy: 0.9706 - val_loss: 0.0516 - val_accuracy: 0.9848\n",
      "Epoch 4/50\n",
      "375/375 [==============================] - ETA: 0s - loss: 0.0875 - accuracy: 0.9746WARNING:tensorflow:Early stopping conditioned on metric `val_acc` which is not available. Available metrics are: loss,accuracy,val_loss,val_accuracy\n",
      "375/375 [==============================] - 32s 85ms/step - loss: 0.0875 - accuracy: 0.9746 - val_loss: 0.0484 - val_accuracy: 0.9857\n",
      "Epoch 5/50\n",
      "375/375 [==============================] - ETA: 0s - loss: 0.0735 - accuracy: 0.9786WARNING:tensorflow:Early stopping conditioned on metric `val_acc` which is not available. Available metrics are: loss,accuracy,val_loss,val_accuracy\n",
      "375/375 [==============================] - 32s 85ms/step - loss: 0.0735 - accuracy: 0.9786 - val_loss: 0.0448 - val_accuracy: 0.9868\n",
      "Epoch 6/50\n",
      "375/375 [==============================] - ETA: 0s - loss: 0.0632 - accuracy: 0.9824WARNING:tensorflow:Early stopping conditioned on metric `val_acc` which is not available. Available metrics are: loss,accuracy,val_loss,val_accuracy\n",
      "375/375 [==============================] - 33s 87ms/step - loss: 0.0632 - accuracy: 0.9824 - val_loss: 0.0398 - val_accuracy: 0.9893\n",
      "Epoch 7/50\n",
      "375/375 [==============================] - ETA: 0s - loss: 0.0581 - accuracy: 0.9837WARNING:tensorflow:Early stopping conditioned on metric `val_acc` which is not available. Available metrics are: loss,accuracy,val_loss,val_accuracy\n",
      "375/375 [==============================] - 33s 87ms/step - loss: 0.0581 - accuracy: 0.9837 - val_loss: 0.0469 - val_accuracy: 0.9877\n",
      "Epoch 8/50\n",
      "375/375 [==============================] - ETA: 0s - loss: 0.0497 - accuracy: 0.9854WARNING:tensorflow:Early stopping conditioned on metric `val_acc` which is not available. Available metrics are: loss,accuracy,val_loss,val_accuracy\n",
      "375/375 [==============================] - 33s 88ms/step - loss: 0.0497 - accuracy: 0.9854 - val_loss: 0.0380 - val_accuracy: 0.9897\n",
      "Epoch 9/50\n",
      "375/375 [==============================] - ETA: 0s - loss: 0.0438 - accuracy: 0.9875WARNING:tensorflow:Early stopping conditioned on metric `val_acc` which is not available. Available metrics are: loss,accuracy,val_loss,val_accuracy\n",
      "375/375 [==============================] - 34s 90ms/step - loss: 0.0438 - accuracy: 0.9875 - val_loss: 0.0377 - val_accuracy: 0.9903\n",
      "Epoch 10/50\n",
      "375/375 [==============================] - ETA: 0s - loss: 0.0406 - accuracy: 0.9876WARNING:tensorflow:Early stopping conditioned on metric `val_acc` which is not available. Available metrics are: loss,accuracy,val_loss,val_accuracy\n",
      "375/375 [==============================] - 34s 89ms/step - loss: 0.0406 - accuracy: 0.9876 - val_loss: 0.0462 - val_accuracy: 0.9872\n",
      "Epoch 11/50\n",
      "375/375 [==============================] - ETA: 0s - loss: 0.0398 - accuracy: 0.9886WARNING:tensorflow:Early stopping conditioned on metric `val_acc` which is not available. Available metrics are: loss,accuracy,val_loss,val_accuracy\n",
      "375/375 [==============================] - 34s 91ms/step - loss: 0.0398 - accuracy: 0.9886 - val_loss: 0.0429 - val_accuracy: 0.9893\n",
      "Epoch 12/50\n",
      "375/375 [==============================] - ETA: 0s - loss: 0.0335 - accuracy: 0.9906WARNING:tensorflow:Early stopping conditioned on metric `val_acc` which is not available. Available metrics are: loss,accuracy,val_loss,val_accuracy\n",
      "375/375 [==============================] - 33s 89ms/step - loss: 0.0335 - accuracy: 0.9906 - val_loss: 0.0448 - val_accuracy: 0.9883\n",
      "Epoch 13/50\n",
      "375/375 [==============================] - ETA: 0s - loss: 0.0313 - accuracy: 0.9904WARNING:tensorflow:Early stopping conditioned on metric `val_acc` which is not available. Available metrics are: loss,accuracy,val_loss,val_accuracy\n",
      "375/375 [==============================] - 33s 89ms/step - loss: 0.0313 - accuracy: 0.9904 - val_loss: 0.0389 - val_accuracy: 0.9909\n",
      "Epoch 14/50\n",
      "375/375 [==============================] - ETA: 0s - loss: 0.0309 - accuracy: 0.9911WARNING:tensorflow:Early stopping conditioned on metric `val_acc` which is not available. Available metrics are: loss,accuracy,val_loss,val_accuracy\n",
      "375/375 [==============================] - 34s 90ms/step - loss: 0.0309 - accuracy: 0.9911 - val_loss: 0.0366 - val_accuracy: 0.9911\n",
      "Epoch 15/50\n",
      "375/375 [==============================] - ETA: 0s - loss: 0.0282 - accuracy: 0.9914WARNING:tensorflow:Early stopping conditioned on metric `val_acc` which is not available. Available metrics are: loss,accuracy,val_loss,val_accuracy\n",
      "375/375 [==============================] - 34s 90ms/step - loss: 0.0282 - accuracy: 0.9914 - val_loss: 0.0386 - val_accuracy: 0.9908\n",
      "Epoch 16/50\n",
      "375/375 [==============================] - ETA: 0s - loss: 0.0266 - accuracy: 0.9914WARNING:tensorflow:Early stopping conditioned on metric `val_acc` which is not available. Available metrics are: loss,accuracy,val_loss,val_accuracy\n",
      "375/375 [==============================] - 34s 90ms/step - loss: 0.0266 - accuracy: 0.9914 - val_loss: 0.0389 - val_accuracy: 0.9910\n",
      "Epoch 17/50\n",
      "375/375 [==============================] - ETA: 0s - loss: 0.0259 - accuracy: 0.9923WARNING:tensorflow:Early stopping conditioned on metric `val_acc` which is not available. Available metrics are: loss,accuracy,val_loss,val_accuracy\n",
      "375/375 [==============================] - 34s 90ms/step - loss: 0.0259 - accuracy: 0.9923 - val_loss: 0.0414 - val_accuracy: 0.9907\n",
      "Epoch 18/50\n",
      "375/375 [==============================] - ETA: 0s - loss: 0.0234 - accuracy: 0.9926WARNING:tensorflow:Early stopping conditioned on metric `val_acc` which is not available. Available metrics are: loss,accuracy,val_loss,val_accuracy\n",
      "375/375 [==============================] - 33s 89ms/step - loss: 0.0234 - accuracy: 0.9926 - val_loss: 0.0439 - val_accuracy: 0.9901\n",
      "Epoch 19/50\n",
      "375/375 [==============================] - ETA: 0s - loss: 0.0232 - accuracy: 0.9935WARNING:tensorflow:Early stopping conditioned on metric `val_acc` which is not available. Available metrics are: loss,accuracy,val_loss,val_accuracy\n",
      "375/375 [==============================] - 33s 88ms/step - loss: 0.0232 - accuracy: 0.9935 - val_loss: 0.0421 - val_accuracy: 0.9902\n",
      "Epoch 20/50\n",
      "375/375 [==============================] - ETA: 0s - loss: 0.0216 - accuracy: 0.9933WARNING:tensorflow:Early stopping conditioned on metric `val_acc` which is not available. Available metrics are: loss,accuracy,val_loss,val_accuracy\n",
      "375/375 [==============================] - 33s 89ms/step - loss: 0.0216 - accuracy: 0.9933 - val_loss: 0.0426 - val_accuracy: 0.9908\n",
      "Epoch 21/50\n",
      "375/375 [==============================] - ETA: 0s - loss: 0.0220 - accuracy: 0.9938WARNING:tensorflow:Early stopping conditioned on metric `val_acc` which is not available. Available metrics are: loss,accuracy,val_loss,val_accuracy\n",
      "375/375 [==============================] - 33s 89ms/step - loss: 0.0220 - accuracy: 0.9938 - val_loss: 0.0427 - val_accuracy: 0.9903\n",
      "Epoch 22/50\n",
      "375/375 [==============================] - ETA: 0s - loss: 0.0180 - accuracy: 0.9942WARNING:tensorflow:Early stopping conditioned on metric `val_acc` which is not available. Available metrics are: loss,accuracy,val_loss,val_accuracy\n",
      "375/375 [==============================] - 33s 88ms/step - loss: 0.0180 - accuracy: 0.9942 - val_loss: 0.0450 - val_accuracy: 0.9901\n",
      "Epoch 23/50\n",
      "375/375 [==============================] - ETA: 0s - loss: 0.0196 - accuracy: 0.9942WARNING:tensorflow:Early stopping conditioned on metric `val_acc` which is not available. Available metrics are: loss,accuracy,val_loss,val_accuracy\n",
      "375/375 [==============================] - 33s 88ms/step - loss: 0.0196 - accuracy: 0.9942 - val_loss: 0.0420 - val_accuracy: 0.9902\n",
      "Epoch 24/50\n",
      "375/375 [==============================] - ETA: 0s - loss: 0.0177 - accuracy: 0.9946WARNING:tensorflow:Early stopping conditioned on metric `val_acc` which is not available. Available metrics are: loss,accuracy,val_loss,val_accuracy\n",
      "375/375 [==============================] - 33s 87ms/step - loss: 0.0177 - accuracy: 0.9946 - val_loss: 0.0453 - val_accuracy: 0.9901\n",
      "Epoch 25/50\n",
      "375/375 [==============================] - ETA: 0s - loss: 0.0154 - accuracy: 0.9951WARNING:tensorflow:Early stopping conditioned on metric `val_acc` which is not available. Available metrics are: loss,accuracy,val_loss,val_accuracy\n",
      "375/375 [==============================] - 33s 88ms/step - loss: 0.0154 - accuracy: 0.9951 - val_loss: 0.0448 - val_accuracy: 0.9907\n",
      "Epoch 26/50\n",
      "375/375 [==============================] - ETA: 0s - loss: 0.0167 - accuracy: 0.9947WARNING:tensorflow:Early stopping conditioned on metric `val_acc` which is not available. Available metrics are: loss,accuracy,val_loss,val_accuracy\n",
      "375/375 [==============================] - 33s 88ms/step - loss: 0.0167 - accuracy: 0.9947 - val_loss: 0.0433 - val_accuracy: 0.9898\n",
      "Epoch 27/50\n",
      "375/375 [==============================] - ETA: 0s - loss: 0.0166 - accuracy: 0.9947WARNING:tensorflow:Early stopping conditioned on metric `val_acc` which is not available. Available metrics are: loss,accuracy,val_loss,val_accuracy\n",
      "375/375 [==============================] - 33s 87ms/step - loss: 0.0166 - accuracy: 0.9947 - val_loss: 0.0478 - val_accuracy: 0.9902\n",
      "Epoch 28/50\n",
      "375/375 [==============================] - ETA: 0s - loss: 0.0146 - accuracy: 0.9954WARNING:tensorflow:Early stopping conditioned on metric `val_acc` which is not available. Available metrics are: loss,accuracy,val_loss,val_accuracy\n",
      "375/375 [==============================] - 35s 94ms/step - loss: 0.0146 - accuracy: 0.9954 - val_loss: 0.0537 - val_accuracy: 0.9901\n",
      "Epoch 29/50\n",
      "375/375 [==============================] - ETA: 0s - loss: 0.0134 - accuracy: 0.9958WARNING:tensorflow:Early stopping conditioned on metric `val_acc` which is not available. Available metrics are: loss,accuracy,val_loss,val_accuracy\n",
      "375/375 [==============================] - 33s 88ms/step - loss: 0.0134 - accuracy: 0.9958 - val_loss: 0.0441 - val_accuracy: 0.9912\n",
      "Epoch 30/50\n",
      "375/375 [==============================] - ETA: 0s - loss: 0.0151 - accuracy: 0.9955WARNING:tensorflow:Early stopping conditioned on metric `val_acc` which is not available. Available metrics are: loss,accuracy,val_loss,val_accuracy\n",
      "375/375 [==============================] - 33s 88ms/step - loss: 0.0151 - accuracy: 0.9955 - val_loss: 0.0491 - val_accuracy: 0.9902\n",
      "Epoch 31/50\n",
      "375/375 [==============================] - ETA: 0s - loss: 0.0126 - accuracy: 0.9960WARNING:tensorflow:Early stopping conditioned on metric `val_acc` which is not available. Available metrics are: loss,accuracy,val_loss,val_accuracy\n",
      "375/375 [==============================] - 33s 87ms/step - loss: 0.0126 - accuracy: 0.9960 - val_loss: 0.0470 - val_accuracy: 0.9910\n",
      "Epoch 32/50\n",
      "375/375 [==============================] - ETA: 0s - loss: 0.0153 - accuracy: 0.9954WARNING:tensorflow:Early stopping conditioned on metric `val_acc` which is not available. Available metrics are: loss,accuracy,val_loss,val_accuracy\n",
      "375/375 [==============================] - 34s 91ms/step - loss: 0.0153 - accuracy: 0.9954 - val_loss: 0.0506 - val_accuracy: 0.9902\n",
      "Epoch 33/50\n",
      "375/375 [==============================] - ETA: 0s - loss: 0.0131 - accuracy: 0.9958WARNING:tensorflow:Early stopping conditioned on metric `val_acc` which is not available. Available metrics are: loss,accuracy,val_loss,val_accuracy\n",
      "375/375 [==============================] - 33s 88ms/step - loss: 0.0131 - accuracy: 0.9958 - val_loss: 0.0499 - val_accuracy: 0.9915\n",
      "Epoch 34/50\n",
      "375/375 [==============================] - ETA: 0s - loss: 0.0134 - accuracy: 0.9962WARNING:tensorflow:Early stopping conditioned on metric `val_acc` which is not available. Available metrics are: loss,accuracy,val_loss,val_accuracy\n",
      "375/375 [==============================] - 34s 90ms/step - loss: 0.0134 - accuracy: 0.9962 - val_loss: 0.0486 - val_accuracy: 0.9911\n",
      "Epoch 35/50\n",
      "375/375 [==============================] - ETA: 0s - loss: 0.0113 - accuracy: 0.9964WARNING:tensorflow:Early stopping conditioned on metric `val_acc` which is not available. Available metrics are: loss,accuracy,val_loss,val_accuracy\n",
      "375/375 [==============================] - 33s 89ms/step - loss: 0.0113 - accuracy: 0.9964 - val_loss: 0.0533 - val_accuracy: 0.9908\n",
      "Epoch 36/50\n",
      "375/375 [==============================] - ETA: 0s - loss: 0.0128 - accuracy: 0.9963WARNING:tensorflow:Early stopping conditioned on metric `val_acc` which is not available. Available metrics are: loss,accuracy,val_loss,val_accuracy\n",
      "375/375 [==============================] - 34s 90ms/step - loss: 0.0128 - accuracy: 0.9963 - val_loss: 0.0494 - val_accuracy: 0.9917\n",
      "Epoch 37/50\n",
      "375/375 [==============================] - ETA: 0s - loss: 0.0119 - accuracy: 0.9965WARNING:tensorflow:Early stopping conditioned on metric `val_acc` which is not available. Available metrics are: loss,accuracy,val_loss,val_accuracy\n",
      "375/375 [==============================] - 34s 91ms/step - loss: 0.0119 - accuracy: 0.9965 - val_loss: 0.0520 - val_accuracy: 0.9909\n",
      "Epoch 38/50\n",
      "375/375 [==============================] - ETA: 0s - loss: 0.0096 - accuracy: 0.9968WARNING:tensorflow:Early stopping conditioned on metric `val_acc` which is not available. Available metrics are: loss,accuracy,val_loss,val_accuracy\n",
      "375/375 [==============================] - 33s 88ms/step - loss: 0.0096 - accuracy: 0.9968 - val_loss: 0.0559 - val_accuracy: 0.9912\n",
      "Epoch 39/50\n",
      "375/375 [==============================] - ETA: 0s - loss: 0.0123 - accuracy: 0.9964WARNING:tensorflow:Early stopping conditioned on metric `val_acc` which is not available. Available metrics are: loss,accuracy,val_loss,val_accuracy\n",
      "375/375 [==============================] - 33s 88ms/step - loss: 0.0123 - accuracy: 0.9964 - val_loss: 0.0538 - val_accuracy: 0.9900\n",
      "Epoch 40/50\n",
      "375/375 [==============================] - ETA: 0s - loss: 0.0104 - accuracy: 0.9969WARNING:tensorflow:Early stopping conditioned on metric `val_acc` which is not available. Available metrics are: loss,accuracy,val_loss,val_accuracy\n",
      "375/375 [==============================] - 33s 87ms/step - loss: 0.0104 - accuracy: 0.9969 - val_loss: 0.0638 - val_accuracy: 0.9890\n",
      "Epoch 41/50\n",
      "375/375 [==============================] - ETA: 0s - loss: 0.0117 - accuracy: 0.9963WARNING:tensorflow:Early stopping conditioned on metric `val_acc` which is not available. Available metrics are: loss,accuracy,val_loss,val_accuracy\n",
      "375/375 [==============================] - 33s 88ms/step - loss: 0.0117 - accuracy: 0.9963 - val_loss: 0.0527 - val_accuracy: 0.9915\n",
      "Epoch 42/50\n",
      "375/375 [==============================] - ETA: 0s - loss: 0.0119 - accuracy: 0.9964WARNING:tensorflow:Early stopping conditioned on metric `val_acc` which is not available. Available metrics are: loss,accuracy,val_loss,val_accuracy\n",
      "375/375 [==============================] - 33s 89ms/step - loss: 0.0119 - accuracy: 0.9964 - val_loss: 0.0605 - val_accuracy: 0.9911\n",
      "Epoch 43/50\n",
      "375/375 [==============================] - ETA: 0s - loss: 0.0118 - accuracy: 0.9965WARNING:tensorflow:Early stopping conditioned on metric `val_acc` which is not available. Available metrics are: loss,accuracy,val_loss,val_accuracy\n",
      "375/375 [==============================] - 33s 88ms/step - loss: 0.0118 - accuracy: 0.9965 - val_loss: 0.0467 - val_accuracy: 0.9912\n",
      "Epoch 44/50\n",
      "375/375 [==============================] - ETA: 0s - loss: 0.0107 - accuracy: 0.9964WARNING:tensorflow:Early stopping conditioned on metric `val_acc` which is not available. Available metrics are: loss,accuracy,val_loss,val_accuracy\n",
      "375/375 [==============================] - 33s 89ms/step - loss: 0.0107 - accuracy: 0.9964 - val_loss: 0.0603 - val_accuracy: 0.9911\n",
      "Epoch 45/50\n",
      "375/375 [==============================] - ETA: 0s - loss: 0.0097 - accuracy: 0.9971WARNING:tensorflow:Early stopping conditioned on metric `val_acc` which is not available. Available metrics are: loss,accuracy,val_loss,val_accuracy\n",
      "375/375 [==============================] - 33s 88ms/step - loss: 0.0097 - accuracy: 0.9971 - val_loss: 0.0599 - val_accuracy: 0.9907\n",
      "Epoch 46/50\n",
      "375/375 [==============================] - ETA: 0s - loss: 0.0106 - accuracy: 0.9966WARNING:tensorflow:Early stopping conditioned on metric `val_acc` which is not available. Available metrics are: loss,accuracy,val_loss,val_accuracy\n",
      "375/375 [==============================] - 32s 87ms/step - loss: 0.0106 - accuracy: 0.9966 - val_loss: 0.0569 - val_accuracy: 0.9909\n",
      "Epoch 47/50\n",
      "375/375 [==============================] - ETA: 0s - loss: 0.0103 - accuracy: 0.9971WARNING:tensorflow:Early stopping conditioned on metric `val_acc` which is not available. Available metrics are: loss,accuracy,val_loss,val_accuracy\n",
      "375/375 [==============================] - 33s 89ms/step - loss: 0.0103 - accuracy: 0.9971 - val_loss: 0.0616 - val_accuracy: 0.9909\n",
      "Epoch 48/50\n",
      "375/375 [==============================] - ETA: 0s - loss: 0.0085 - accuracy: 0.9973WARNING:tensorflow:Early stopping conditioned on metric `val_acc` which is not available. Available metrics are: loss,accuracy,val_loss,val_accuracy\n",
      "375/375 [==============================] - 32s 87ms/step - loss: 0.0085 - accuracy: 0.9973 - val_loss: 0.0541 - val_accuracy: 0.9912\n",
      "Epoch 49/50\n",
      "375/375 [==============================] - ETA: 0s - loss: 0.0092 - accuracy: 0.9972WARNING:tensorflow:Early stopping conditioned on metric `val_acc` which is not available. Available metrics are: loss,accuracy,val_loss,val_accuracy\n",
      "375/375 [==============================] - 32s 87ms/step - loss: 0.0092 - accuracy: 0.9972 - val_loss: 0.0627 - val_accuracy: 0.9906\n",
      "Epoch 50/50\n",
      "375/375 [==============================] - ETA: 0s - loss: 0.0107 - accuracy: 0.9969WARNING:tensorflow:Early stopping conditioned on metric `val_acc` which is not available. Available metrics are: loss,accuracy,val_loss,val_accuracy\n",
      "375/375 [==============================] - 32s 86ms/step - loss: 0.0107 - accuracy: 0.9969 - val_loss: 0.0581 - val_accuracy: 0.9915\n"
     ]
    },
    {
     "data": {
      "text/plain": [
       "<keras.src.callbacks.History at 0x1f6d3f5c250>"
      ]
     },
     "execution_count": 9,
     "metadata": {},
     "output_type": "execute_result"
    }
   ],
   "source": [
    "model.fit(X_train, y_train, batch_size=batch_size, epochs=n_epochs, verbose=1, validation_split=0.2, callbacks=callbacks)\n"
   ]
  },
  {
   "cell_type": "code",
   "execution_count": 10,
   "metadata": {},
   "outputs": [
    {
     "name": "stdout",
     "output_type": "stream",
     "text": [
      "Test loss 0.05986189469695091\n",
      "Test accuracy 0.9909999966621399\n"
     ]
    }
   ],
   "source": [
    "score = model.evaluate(X_test, y_test, verbose=0)\n",
    "print('Test loss', score[0])\n",
    "print('Test accuracy',score[1])"
   ]
  },
  {
   "cell_type": "code",
   "execution_count": null,
   "metadata": {},
   "outputs": [],
   "source": []
  }
 ],
 "metadata": {
  "kernelspec": {
   "display_name": "kaggle",
   "language": "python",
   "name": "python3"
  },
  "language_info": {
   "codemirror_mode": {
    "name": "ipython",
    "version": 3
   },
   "file_extension": ".py",
   "mimetype": "text/x-python",
   "name": "python",
   "nbconvert_exporter": "python",
   "pygments_lexer": "ipython3",
   "version": "3.11.3"
  }
 },
 "nbformat": 4,
 "nbformat_minor": 2
}
